{
 "cells": [
  {
   "cell_type": "code",
   "execution_count": 1,
   "metadata": {},
   "outputs": [],
   "source": [
    "import google.generativeai\n",
    "# just to varify ki notebook env ko follow kr rhi hai ki nhi"
   ]
  },
  {
   "cell_type": "code",
   "execution_count": 2,
   "metadata": {},
   "outputs": [],
   "source": [
    "# yeah worked. So it is following the env content"
   ]
  },
  {
   "cell_type": "code",
   "execution_count": 3,
   "metadata": {},
   "outputs": [],
   "source": [
    "import google.generativeai as genai"
   ]
  },
  {
   "cell_type": "code",
   "execution_count": 6,
   "metadata": {},
   "outputs": [
    {
     "data": {
      "text/plain": [
       "<generator object list_models at 0x000001E4FEDE1040>"
      ]
     },
     "execution_count": 6,
     "metadata": {},
     "output_type": "execute_result"
    }
   ],
   "source": [
    "genai.list_models()"
   ]
  },
  {
   "cell_type": "code",
   "execution_count": 7,
   "metadata": {},
   "outputs": [
    {
     "data": {
      "text/plain": [
       "True"
      ]
     },
     "execution_count": 7,
     "metadata": {},
     "output_type": "execute_result"
    }
   ],
   "source": [
    "import os\n",
    "from dotenv import load_dotenv\n",
    "load_dotenv()"
   ]
  },
  {
   "cell_type": "code",
   "execution_count": 8,
   "metadata": {},
   "outputs": [],
   "source": [
    "google_api_key = os.getenv(\"GOOGLE_API_KEY\")"
   ]
  },
  {
   "cell_type": "code",
   "execution_count": 12,
   "metadata": {},
   "outputs": [],
   "source": [
    "from llama_index.core import SimpleDirectoryReader\n",
    "from llama_index.core import VectorStoreIndex\n",
    "from llama_index.llms.gemini import Gemini\n",
    "from IPython.display import Markdown, display\n",
    "from llama_index.core import ServiceContext\n",
    "from llama_index.core import StorageContext, load_index_from_storage"
   ]
  },
  {
   "cell_type": "code",
   "execution_count": 14,
   "metadata": {},
   "outputs": [],
   "source": [
    "genai.configure(api_key = google_api_key)"
   ]
  },
  {
   "cell_type": "code",
   "execution_count": 15,
   "metadata": {},
   "outputs": [
    {
     "name": "stdout",
     "output_type": "stream",
     "text": [
      "models/chat-bison-001\n",
      "models/text-bison-001\n",
      "models/embedding-gecko-001\n",
      "models/gemini-1.0-pro-latest\n",
      "models/gemini-1.0-pro\n",
      "models/gemini-pro\n",
      "models/gemini-1.0-pro-001\n",
      "models/gemini-1.0-pro-vision-latest\n",
      "models/gemini-pro-vision\n",
      "models/gemini-1.5-pro-latest\n",
      "models/gemini-1.5-pro-001\n",
      "models/gemini-1.5-pro-002\n",
      "models/gemini-1.5-pro\n",
      "models/gemini-1.5-pro-exp-0801\n",
      "models/gemini-1.5-pro-exp-0827\n",
      "models/gemini-1.5-flash-latest\n",
      "models/gemini-1.5-flash-001\n",
      "models/gemini-1.5-flash-001-tuning\n",
      "models/gemini-1.5-flash\n",
      "models/gemini-1.5-flash-exp-0827\n",
      "models/gemini-1.5-flash-002\n",
      "models/gemini-1.5-flash-8b\n",
      "models/gemini-1.5-flash-8b-001\n",
      "models/gemini-1.5-flash-8b-latest\n",
      "models/gemini-1.5-flash-8b-exp-0827\n",
      "models/gemini-1.5-flash-8b-exp-0924\n",
      "models/gemini-2.0-flash-exp\n",
      "models/gemini-exp-1206\n",
      "models/gemini-exp-1121\n",
      "models/gemini-exp-1114\n",
      "models/gemini-2.0-flash-thinking-exp\n",
      "models/gemini-2.0-flash-thinking-exp-1219\n",
      "models/learnlm-1.5-pro-experimental\n",
      "models/embedding-001\n",
      "models/text-embedding-004\n",
      "models/aqa\n"
     ]
    }
   ],
   "source": [
    "for model in genai.list_models():\n",
    "    print(model.name)"
   ]
  },
  {
   "cell_type": "code",
   "execution_count": 16,
   "metadata": {},
   "outputs": [
    {
     "name": "stdout",
     "output_type": "stream",
     "text": [
      "models/gemini-1.0-pro-latest\n",
      "models/gemini-1.0-pro\n",
      "models/gemini-pro\n",
      "models/gemini-1.0-pro-001\n",
      "models/gemini-1.0-pro-vision-latest\n",
      "models/gemini-pro-vision\n",
      "models/gemini-1.5-pro-latest\n",
      "models/gemini-1.5-pro-001\n",
      "models/gemini-1.5-pro-002\n",
      "models/gemini-1.5-pro\n",
      "models/gemini-1.5-pro-exp-0801\n",
      "models/gemini-1.5-pro-exp-0827\n",
      "models/gemini-1.5-flash-latest\n",
      "models/gemini-1.5-flash-001\n",
      "models/gemini-1.5-flash-001-tuning\n",
      "models/gemini-1.5-flash\n",
      "models/gemini-1.5-flash-exp-0827\n",
      "models/gemini-1.5-flash-002\n",
      "models/gemini-1.5-flash-8b\n",
      "models/gemini-1.5-flash-8b-001\n",
      "models/gemini-1.5-flash-8b-latest\n",
      "models/gemini-1.5-flash-8b-exp-0827\n",
      "models/gemini-1.5-flash-8b-exp-0924\n",
      "models/gemini-2.0-flash-exp\n",
      "models/gemini-exp-1206\n",
      "models/gemini-exp-1121\n",
      "models/gemini-exp-1114\n",
      "models/gemini-2.0-flash-thinking-exp\n",
      "models/gemini-2.0-flash-thinking-exp-1219\n",
      "models/learnlm-1.5-pro-experimental\n"
     ]
    }
   ],
   "source": [
    "for model in genai.list_models():\n",
    "    if 'generateContent' in model.supported_generation_methods:\n",
    "        print(model.name)"
   ]
  },
  {
   "cell_type": "code",
   "execution_count": 17,
   "metadata": {},
   "outputs": [],
   "source": [
    "document = SimpleDirectoryReader(\"./Data\")"
   ]
  },
  {
   "cell_type": "code",
   "execution_count": 18,
   "metadata": {},
   "outputs": [
    {
     "data": {
      "text/plain": [
       "[Document(id_='9e2bed70-50a5-495d-8b22-b9d725b1717a', embedding=None, metadata={'file_path': 'c:\\\\Users\\\\prabh\\\\srijan\\\\QA_llamaindex_geminiAPI_embedding\\\\Data\\\\indian_railway_gyankosh.txt', 'file_name': 'indian_railway_gyankosh.txt', 'file_type': 'text/plain', 'file_size': 29199, 'creation_date': '2024-12-22', 'last_modified_date': '2024-12-22'}, excluded_embed_metadata_keys=['file_name', 'file_type', 'file_size', 'creation_date', 'last_modified_date', 'last_accessed_date'], excluded_llm_metadata_keys=['file_name', 'file_type', 'file_size', 'creation_date', 'last_modified_date', 'last_accessed_date'], relationships={}, metadata_template='{key}: {value}', metadata_separator='\\n', text_resource=MediaResource(embeddings=None, data=None, text=\"Indian Railways:- \\r\\n\\r\\nIndian Railways is a state-owned enterprise that is organised as a deparmental undertaking of the Ministry of Railways of the Government of India and operates India's national railway system.[a] As of 2023, it manages the fourth largest national railway system by size with a track length of 132,310 km (82,210 mi), running track length of 106,493 km (66,172 mi) and route length of 68,584 km (42,616 mi). As of August 2024, 96.59% of the broad-gauge network is electrified. With more than 1.2 million employees, it is the world's ninth-largest employer and India's second largest employer.\\r\\n\\r\\nIn 1951, the Indian Railways was established by the amalgamation of 42 different railway companies operating in the country, spanning a total of 55,000 km (34,000 mi). The railway network across the country was reorganized into six regional zones in 1951–52 for administrative purposes, which was gradually expanded to 18 zones over the years.\\r\\n\\r\\nThe first steam operated railway operated in 1837 in Madras with the first passenger operating in 1853 between Bombay and Thane. In 1925, the first electric train ran in Bombay on DC traction. The first locomotive manufacturing unit was commissioned in 1950 at Chittaranjan with the first coach manufacturing unit set-up at Madras in 1955.\\r\\n\\r\\nIndian Railways runs various classes of express, passengers and suburban trains. In 2018–19, it operated 13,523 trains on average daily covering 7,325 stations and carried 8.44 billion passengers. Indian Railways also operates different classes of rail freight transport. In 2022–23, it operated 8,479 trains on average daily and transported 1418.1 million tonnes of freight. Indian Railways operates multiple classes of rolling stock, manufactured by self-owned coach-production facilities. As of March 2023, Indian Railways' rolling stock consisted of 318,196 freight wagons and 84,863 passenger coaches. As of December 2023, Indian Railways had 10,238 electric and 4,543 diesel locomotives amongst others.\\r\\n\\r\\n\\r\\nHistory:-\\r\\n1832–1899\\r\\nIn 1832 the proposal to construct the first railway line in India at Madras was made.[5][6] In 1835, a railway track was constructed between Red Hills and Chintadripet in Madras and became operational in 1837. It was hauled by a rotary steam engine imported from England and was used for ferrying granite\\r\\nThe Madras Railway was established in 1845 and the Great Indian Peninsular Railway was incorporated in 1849.[6] Temporary railway lines were built such as the railway line at Dowleswaram built by Arthur Cotton to supply stone for the construction of a dam over the Godavari River in 1845 and the Solani aqueduct railway, built by Proby Cautley in Roorkee to transport construction materials for an aqueduct over the Solani river in 1851.[6] In 1852, a steam locomotive imported from England was tried at Byculla.[8] In 1853, the first passenger train on 1,676 mm (5 ft 6 in) broad gauge ran for 34 kilometres (21 mi) between Bombay and Thane which had 14-carriages carrying 400 people, hauled by three steam locomotives: the Sahib, Sindh and Sultan.[9][10] This day is considered to be the formation date of the Indian Railways and is marked as the Indian Railways day annually.[11][12]\\r\\n\\r\\nThe Thane viaducts, the first railway bridges, were built over the Thane creek when the Mumbai-Thane line was extended to Kalyan in May 1854. Eastern India's first passenger train ran 39 km (24 mi) from Howrah, near Kolkata, to Hoogly on 15 August 1854.[6] The construction of the first main line in the South between Royapuram in Madras and Arcot started in 1853, which became operational on 1 July 1856.[13] On 24 February 1873, a horse-drawn 3.8 km (2.4 mi) tram opened in Calcutta between Sealdah and Armenian Ghat street.[14] On 9 May 1874, a horse-drawn tramway began operation in Bombay between Colaba and Parel.[15] In 1879, the Nizam's Guaranteed State Railway was established which built railway lines across the then Hyderabad State from Kachiguda.[16] In 1877, an Ajmer built F-1/734 Steam Locomotive became the first indigenously built locomotive in India.[17] In 1897, lighting in passenger coaches was introduced with Jodhpur Railway, the first to introduce electric lighting as a standard fixture\\r\\n\\r\\n1900–1999\\r\\nThe first railway budget was presented in 1924.[6] On 3 February 1925, the first electric train ran between Bombay and Kurla, hauled by a SLM electric locomotive on DC traction.[18] In 1925, the first Electric Multiple Units (EMU) were introduced in Bombay with 1500 V DC units imported from Cammell Laird and Uerdingenwagonfabrik.[19] Chennai suburban railway started operating in 1931 with a single metre-gauge line from Chennai Beach to Tambaram.[20] In the period between 1925 and 1944, the management of the railway companies in the British presidencies and provinces was taken over by the Government.[21]\\r\\n\\r\\nIn 1950, there were about 42 different railway companies operating about 55,000 km (34,000 mi) tracks across the country.[22][23] These railway companies were amalgamated in steps to form a single entity named as Indian Railways.[24] In December 1950, the Central Advisory Committee for Railways approved the plan for re-organizing Indian Railways into six regional zones with the Southern (14 April 1951), Central (5 November 1951), and Western (5 November 1951) zones being the first to be created.[23][25][21] In 1952, fans and lights were mandated for all compartments in passenger trains and sleeping accommodations were introduced in coaches.[6] The first diesel locomotive used in India was fabricated by North British Locomotive Company in 1954.\\r\\n\\r\\nThe first locomotive manufacturing unit at Chittaranjan was commissioned in 1950.[27] The first rail coaches were manufactured in India from 1956 when the Integral Coach Factory was established at Madras.[28] In 1956, the first air-conditioned train plied between Howrah and New Delhi.[29] In 1957, Indian Railways adopted 25 kV AC traction with the first runs beginning in December 1959 with the WAM-1 locomotives.[19] The first containerized freight rail transport began between Bombay and Ahmedabad in 1966.[6] In 1969, the Government of India announced the introduction of a new express train capable of reaching speeds of up to 120 km/h (75 mph) in the railway budget and the first Rajdhani Express was flagged off from New Delhi to Howrah in March 1969.[30][31] In 1974, Indian Railways endured a 20-day strike.[32][33] The first metro rail was introduced in Calcutta on 24 October 1984.[34]\\r\\n\\r\\nIn 1986, computerized ticketing and reservations were introduced.[35] In 1988, the first Shatabdi Express was introduced between New Delhi and Jhansi.[6] Two years later, the first self-printing ticket machine (SPTM) was introduced in Delhi.[36] In 1993, air-conditioned three-tier and sleeper were introduced.[6] In 1995, Chennai MRTS became the first operational elevated railway line in India.[20] Centralized computer reservation system was deployed in Delhi, Mumbai and Chennai in September 1996, coupon validating machines (CVMs) were introduced at Mumbai CSMT in 1998 and the nationwide concierge system began operation on 18 April 1999.[6]\\r\\n\\r\\n2000–present\\r\\nThe Indian Railways website went online in February 2000. Indian Railways Catering and Tourism Corporation (IRCTC) was incorporated in 1999 and online ticketing was introduced on 3 August 2002 through IRCTC.[37] In 2015, the first Compressed Natural Gas (CNG) powered trains were rolled out.[38] Since 1925, the Railway budget was presented before the Union budget till 2016. The central government approved the merger of the Rail and General budgets from 2017.[39] On 31 March 2017, Indian Railways announced a target of electrifying the entire rail network would be electrified by 2023.[40] In March 2020, Indian Railways announced a nationwide shutdown of passenger service to combat the COVID-19 pandemic in India with the freight operations continuing to transport essential goods.[41][42][43] The railways resumed passenger services in a phased manner in May 2020\\r\\n\\r\\nStarting in the 2010s, various infrastructure modernization projects have been undertaken including high-speed rail,[45][46] redevelopment of 400 stations,[47] doubling tracks to reduce congestion,[48] refurbishing of coaches,[49][50] Global Positioning System (GPS)-enabled tracking of trains[51] and modernization of locomotives.[52][53] In 2018, a semi-high speed self-propelled train-set capable of reaching speeds of over 160 km/h (99 mph) was rolled out from ICF and the Vande Bharat Express was launched in 2019.[54][55] Indian Railways announced plans to become a net-zero carbon emission railway by 2030 and has implemented rainwater harvesting at stations,[56] reforestation along the tracks,[57] introduction of solar-powered trains,[58] installation of solar and wind power generation facilities,[59] and sustainable LED lighting at all the stations.[60] Indian railways removed all unstaffed level crossings by 2019 with staffed level crossings being replaced by bridges.[61] Other safety projects include the extension of an automated fire alarm system to all air-conditioned coaches and GPS-enabled Fog Pilot Assistance System railway signalling devices.[62] In 2020, Indian Railways allowed the operation of private passenger trains for the first time with the first train flagged off from Coimbatore in June 2022.[63][64]\\r\\n\\r\\nInfrastructure and operations : -\\r\\n\\r\\nLocomotives\\r\\nThe first trains in the 1800s were hauled by imported steam locomotives.[6] In 1877, the first locomotive was built in India.[8] Electric locomotives were introduced in 1925 and diesel locomotives later in 1954.[26][18] By 1990s, steam locomotives were phased out and are currently operated only on mountrain railways and on heritage trains. Locomotives are classified by track gauge (broad/metre/narrow/narrower), motive power (electric/diesel/battery), function (passenger/goods/mixed), power rating (x1000 HP) and model in a four or five letter code.[76] The locomotives may be Longer Hood Front (LHF), where the driver cabin is behind the hood of the engine or Short Hood Front (SHF), where the cabin is located towards the front.[76] Multiple units (MU) are propelled by locomotives integrated with train-sets. In 2015, the first Compressed Natural Gas (CNG) powered MUs were rolled out by ICF.[38] In 2018, the semi-high speed self-propelled Vande Bharat train-set was rolled out from ICF.[54] Locomotives are manufactured by five owned manufacturing units of the Indian Railways and BHEL.[77] As of 2021, 37% of the trains are operated by diesel locomotives and rest mostly by electric locomotives.[78] As of December 2023, Indian Railways had 10,238 electric and 4,543 diesel locomotives amongst others\\r\\n\\r\\nPassenger coaches : -\\r\\nThe early rail coaches were based on a prototype by a Swiss company and were termed as ICF coaches after Integral coach factory (ICF), the first coach manufacturing unit in India.[28] These coaches, manufactured from 1955 to 2018, were largely in use till the early 2010s.[81] From the late 1990s, the ICF coaches were replaced by safer and newer LHB coaches designed by Linke-Hofmann-Busch of Germany.[82][83] In the late 2010s, Indian railways started upgrading the coaches of select trains from LHB to new Tejas coaches with enhanced features.[84][85] As of March 2023, Indian Railways' had 84,863 passenger coaches.[3] Coaches are manufactured by five manufacturing units of the Indian Railways and public sector companies BEML and BHEL.[77] The coaching stock have unique five or six digit identifiers. Till 2018, the first two digits indicating the year of manufacture and the last three digits indicating the class.[86] In 2018, the numbering system was changed with the first two digits indicating the year of manufacture and the last four digits indicating the sequence number.[87]\\r\\n\\r\\nMultiple units\\r\\nIn the 1960s, Electric multiple units (EMU) were developed for short-haul and suburban rail transit.[88][89] On regional short-distance routes, Mainline electrical multiple unit (MEMU) and Diesel electrical multiple unit (DEMU) trains are run. These train sets run in formation of 6, 9, 12 or 15 coaches and a three-car set is typified by a motor coaches and two passenger coaches.[90][91] These train-sets are self-propelled with capability for faster acceleration or deceleration.[92] In 2018, Indian Railways also rolled out semi-high speed self-propelled train sets with modified coaches for inter city trains.\\r\\n\\r\\nGoods wagons\\r\\nIndian Railways hauls variety of cargo to cater to various requirements and have specialized rolling stock corresponding to the cargo hauled. There are 243 types of rolling stock used for cargo operations.[93] These include covered wagons, boxcars, flat wagons, flatbeds, open wagons, hoppers, containers, automobile carriers, defense vehicle carriers and tankers.[94] The freight cars can often carry loads from 10 to 80 tonnes per car depending on the configuration.[94] A new wagon numbering system was adopted in Indian Railways in 2003.[95] The requirement of wagons was previously met by Bharat wagon and engineering with the procurement and manufacturing now done by both in public and private sector.[3]\\r\\n\\r\\nOthers\\r\\nApart from standard passenger classes, the Indian Railways has other specialized coach types used for dedicated functions.[96] These include accident relief medical vans,[97][98] brake vans,[99][100] generator cars,[101] inspection carriages,[102] military cars,[97] pantry car[103] and parcel vans.[104] These may be dedicated self-propelled units or attached to train-sets.[105][106]\\r\\n\\r\\nManufacturing\\r\\nIndian Railways operates various manufacturing units. Chittaranjan Locomotive Works (CLW), commissioned in 1950, was the first locomotive manufacturing unit in India.[27] The first rail coache manufacturing unit, the Integral Coach Factory (ICF) was established at Madras in 1956.[28] Banaras Locomotive Works (BLW), commissioned in 1961, is the second locomotive manufacturing unit operated by Indian Railways.[107] BHEL, Patiala Locomotive Works, Diesel Locomotive Factory, Marhowrah and Electric Locomotive Factory, Madhepura also manufacture locomotives in India.[77] Railway coaches are also manufactured at coach factories at Karputhala, Raebareli, Sonipat and Latur.[77] Indian Railways also operates three rail wheel manufacturing factories at Bangalore, Chhpra and Raebareli.[77][108]\\r\\n\\r\\nMaintenance\\r\\nThe locomotives are operated and maintained by 44 locomotive sheds.[80][79] The repair and maintenance of the fleet of other rolling stock is carried out at 212 carriage & wagon repair units and 45 periodic overhaul workshops across various zones of IR\\r\\n\\r\\nSignaling and communication:-\\r\\nIndian Railways uses a range of signalling technologies and methods to manage its train operations based on traffic density and safety requirements. As of March 2023, around 3,549 km (2,205 mi) of the route uses automatic block signalling for train operations – concentrated in high density routes, large cities and junctions.[3] Remaining routes are based on absolute block signalling with trains manually controlled by signal men from the signal boxes typically located at stations. Few low density routes still use manual block signalling methods with communication on track clearance based on physical exchange of tokens.[117] In a few sections, intermediate block signalling is provided to further enhance line capacity with minimal investment. As of March 2020, 602 block sections have intermediate block signals.[3] Indian Railways primarily uses coloured signal lights, which replaced the earlier semaphores and disc-based signalling. It uses two-aspect, three-aspect and four (or multiple) aspect color signalling across its network.[118][119]\\r\\n\\r\\nSignals at most stations are interlocked using panel interlocking, route-relay interlocking or electronic interlocking methods that eliminate scope for human signalling errors. Indian Railways uses track circuiting, and block proving axle counters for train detection. As of March 2023, 6,523 stations have interlocked and multi-aspect signalling. Around 99% of key routes have track circuitry or block proving axle counters for automated train detection and Kavach automatic train protection system has been implemented in 1,445 km (898 mi) of tracks.[3] The railways has about 59,105 km (36,726 mi) of optical fiber cable network used for train control, voice and data communication with 3,445 km (2,141 mi) of the route covered by GSM-R based Mobile Train Radio communication.[3] In December 2017, Indian Railways announced that it will implement ETCS Level 2 system for signalling and control on key routes with an investment of ₹120 billion (US$1.4 billion)\\r\\n\\r\\nPassenger trains:-\\r\\nIndian Railways operates various classes of passenger and express trains. The trains are classified basis average speed and facilities with express trains having fewer halts, priority on rail network and faster average speed. The trains are identified by five digit numbers with train-pairs traveling in opposite directions usually labelled with consecutive numbers.[148] Express trains often have specific unique names for easy identification.[149] In 2018–19, Indian Railways operated 13,523 passenger trains on average daily and carried 8.44 billion passengers.[150] India Railways operates various categories of express trains including Rajdhani Express, Shatabdi Express, Garib Rath Express, Double Decker Express, Tejas Express, Gatimaan Express, Humsafar Express, Duronto Express, Yuva Express, Uday Express, Jan Shatabdi Express, Sampark Kranti Express, Vivek Express, Rajya Rani Express, Mahamana Express, Antyodaya Express, Jan Sadharan Express, Suvidha Express and Intercity Express.\\r\\n\\r\\nHigh-speed rail\\r\\nRajdhani Express introduced in 1969 were the first trains to reach speeds of up to 120 km/h (75 mph).[31] Shatabdi Express introduced in 1988, are capable of running at a maximum speed of 150 km/h (93 mph).[151][152] In 2019, Vande Bharat Express was launched with self-propelled EMU train-sets capable of reaching maximum speed of 180 km/h (110 mph) with operational speeds restricted to 130–160 km/h (81–99 mph).[153][154] A non-airconditioned semi-high speed train-set hauled by two modified WAP-5 locomotives was launched as Amrit Bharat Express.[155] A high-speed rail line is under-construction between Mumbai and Ahmedabad which will become the first true high-speed rail line when completed in 2026\\r\\n\\r\\nMountain railways:-\\r\\nMountain Railways of India refer to three rail lines operated by Indian Railways in hilly terrain. Darjeeling Himalayan Railway, a 610 mm (2 ft) narrow-gauge railway in the Lesser Himalayas of West Bengal was opened in 1881. [157] The mountain railways were designated as World Heritage Sites in 1999.[157] The Kalka-Shimla Railway, a 762 mm (2 ft 6 in) narrow-gauge railway in the Siwalik Hills of Himachal Pradesh started operating in 1903. The Nilgiri Mountain Railway, a 1,000 mm (3 ft 3+3⁄8 in) metre gauge rack railway in the Nilgiri Hills of Tamil Nadu was opened in 1908 and is the only operational rack railway in India.[158][157] These railways operate with its own dedicated fleet of locomotives and coaches.\\r\\n\\r\\nSuburban and metro:-\\r\\nThe first suburban electric trains were introduced in Bombay in 1925.[90][160] Chennai suburban lines started operating in 1931 and Kolkata in 1957.[161][162] Later, AC traction was adopted for suburban lines and are currently operated by Multiple Units (MUs) of various configurations. In 1984, Kolkata Metro, the first metro system and the only system operated by Indian Railways was commissioned.[163] Opened in November 1995, Chennai MRTS became the first operational elevated railway line in India.[20] Indian Railways operates suburban railway systems across the cities of Mumbai (suburban), Chennai (suburban and MRTS), Kolkata (suburban and metro) and Secunderabad (MMTS) covering six railway zones.\\r\\n\\r\\nTourism\\r\\nIndian Railways offers tour packages through IRCTC.[164] It operates tourist trains and coach services on popular tourist circuits in different regions of the country. It operates luxury tourist trains such as Maharajas' Express, Palace on Wheels, Golden Chariot and Deccan Odyssey, deluxe tourist trains such as Mahaparinirvan Express.[3][165] It also operates heritage and exhibition trains on special circumstances\\r\\n\\r\\nTicketing and fares:-\\r\\nIn 1986, computerized ticketing and reservations were introduced before which ticketing was done manually.[35] Self-printing ticket machines (SPTM) were introduced in 1988.[36] Centralized computer reservation system was deployed in September 1996.[6] The ticketing network at stations is computerized with the exception of few stations. The Indian Railways website went online in February 2000 and online ticketing was introduced on 3 August 2002 through IRCTC.[37] Indian Railways now provides multiple channels for passengers to book tickets through website, smartphone apps, SMS, rail reservation counters at train stations, or through private ticket booking counters. Reserved tickets may be booked up to 60 days in advance and confirmed reservation tickets will show the passenger and fare details along with berth or seat number(s) allocated to them on the ticket.\\r\\n\\r\\nIn case of no confirmed reservation, a wait-list number is assigned and wait-listed tickets get confirmed if there are cancellations of already reserved tickets. Reservation against cancellation tickets is an intermediate category between the waiting and confirmed lists in sleeper classes which allows a ticket holder to board the train and share a berth.[167] Reserved tickets can be booked by passengers who want to travel at short notice at higher fares through the Tatkal train ticket, where no refund is applicable on cancellation.[168] A valid proof for the purchase of ticket along with photo identification is required to board the train.[169] Unreserved tickets for short distance or unplanned travels may be purchased at stations or through UTS mobile app at any time before departure.[170] Holders of such tickets may only board the general or unreserved coaches. Suburban networks also issue unreserved tickets valid for a limited time or season passes with unlimited travel between two stops for a period of time.[171][172]\\r\\n\\r\\nIndia has some of the lowest train fares in the world, and lower class passenger fares are subsidised.[173][174] Discounted fares are applicable for railway employees, senior citizens (over age 60), the differently-abled, students, athletes, patients and those taking competitive examinations. Seats of lower class of accommodation are reserved for women or senior citizens in some trains.\\r\\n\\r\\nAccidents and incidents:-\\r\\nAs per the Ministry of Railways, there have been more than 38,500 railway accidents from 1961 to 2019.[179] In 2019-20, the Indian Railways reported zero passenger deaths due to accidents for the first time in its history.[180] At least 313 people died in 40 train accidents in 2023-24 and 748 people have died in 638 train accidents in the previous ten years.\\r\\n\\r\\nAccidents of Indian Railways[179]\\r\\nSpan\\tAccidents\\tTrain kms (million)\\tAccidents per million kms\\r\\nCollisions\\tDerailments\\tLevel crossing\\tFire\\tOthers\\tTotal\\r\\n1961-1970\\t834\\t10,664\\t1,394\\t1,037\\t0\\t13,929\\t4,339\\t3.21\\r\\n1971-1980\\t588\\t6,763\\t1,120\\t185\\t0\\t8,665\\t4,810\\t1.80\\r\\n1981-1990\\t475\\t6,242\\t677\\t176\\t0\\t7,570\\t5,598\\t1.35\\r\\n1991-2000\\t340\\t3,583\\t632\\t77\\t0\\t4,642\\t6,559\\t0.70\\r\\n2001-2010\\t135\\t1,680\\t803\\t93\\t52\\t2,763\\t8,333\\t0.33\\r\\n2011-2019\\t43\\t567\\t352\\t54\\t16\\t1,023\\t10,134\\t0.10\\r\\n\\r\\nTravel classes : - (coach types)\\r\\nCoach code (First digit)[125]\\r\\nClass\\tCode\\tImage\\tDescription\\r\\nFirst AC\\tH\\t\\tIt is the most luxurious and expensive class in most express trains.[127][96] They have separate air-conditioned compartments with private lockable doors, bedding, dedicated attendants and meals served at seat.[128]\\r\\nFirst Class\\tF\\t\\tFirst class is similar to first AC coaches with a combination of cabins and berths but are non air-conditioned and do not have all the facilities of first AC coaches.[128] They were slated to be phased out of normal express trains starting in the 2000s and the last coach being de-commissioned in 2015.[129][130] The First class is still in use in toy trains where the coaches consist of seats similar to chair cars.[131]\\r\\nExecutive Anubhuti\\tEA/K\\t\\tExecutive Anubhuti is the premium class of air-conditioned chair car equipped with retractable, large cushioned seats in 2x2 configuration. The class is equipped with an entertainment system, large luggage compartments, passenger information system, dedicated reading lights, power sockets and call buttons, modular bio toilets with automated taps. Meals often provided as a part of the journey ticket.[132] The class is available only in select trains.[132][133]\\r\\nAC Executive Class\\tE\\t\\tAC Executive Class is often the top most class of air-conditioned chair car in express trains. It is equipped with large retractable seats in 2x2 configuration.[127][134] The class is equipped with dedicated reading lights and power sockets, modular bio toilets with automated taps. Meals are often provided as a part of the journey ticket.[128] In Vande Bharat Express trains, the class is equipped with more features including rotating seats, CCTVs, passenger information system, larger toilets, USB ports and automated doors.[135][136]\\r\\nExecutive Vistadome\\tEV\\t\\tAC Tourist cars have vistadome coaches with glass roofs and extra wide windows. The interiors are similar to AC chair car coaches. Select trains operating mostly on tourist circuits are equipped with such coaches.[137] Indian Railways plans to introduce these coaches in all mountain railways.[138]\\r\\nSecond AC or AC 2-tier\\tA\\t\\tSecond AC or AC 2-tier is an air-conditioned sleeping car with wide sealed windows.[127] There are four berths arranged in two-tiers facing each other in a single bay with two-tiered berths arranged on the sides lengthwise across the corridor.[96] Individual berths are equipped with curtains, simple bedding, reading lights and charging sockets.[139][140] Food is available on order or as a part of the ticket depending on the train.[128]\\r\\nThird AC or AC 3-tier\\tB\\t\\tThird AC or AC 3-tier is an air-conditioned sleeping car.[127] There are six berths arranged in three-tiers facing each other in a single bay with foldable middle berths and two-tiered berths arranged on the sides lengthwise across the corridor.[96] There are common charging sockets and lights in each compartment with simple bedding provided.[140] Food is available on order or as a part of the ticket depending on the train with the same menu shared with AC 2-tier.[128]\\r\\nAC 3-tier economy\\tG/M\\t\\tAC 3-tier economy coaches are air-conditioned sleeping cars similar to AC 3-tier.[127] Compared to 3-tier coaches, they have an extra middle berth along the aisle.[128] The coaches were first introduced in Garib Rath trains and only a few trains operate with such coaches.[141] Bedding is available for rent and the coaches have facilities like charging sockets and lights similar to AC 3-tier coaches.[141] New AC 3-tier economy coaches introduced in 2021 have similar berth arrangement as AC 3-tier but accommodates 83 berths per coach and other improved facilities.[142][143]\\r\\nAC Chair Car\\tC\\t\\tAC chair car are air-conditioned coaches equipped with retractable seats in 3x2 configuration.[127] The class has cushioned seats with tray tables and are equipped with LED reading lights, power sockets along the window side. Meals are provided as a part of the journey ticket in select trains.[128] In Vande Bharat Express trains, the class is equipped with more features including passenger information system, CCTVs, larger toilets and automated doors.[144][145]\\r\\nSleeper\\tS\\t\\tSleeper class is the most common sleeping car coach in Indian Railways.[127] There are six berths arranged in three-tiers facing each other in a single bay with foldable middle berths and two-tiered berths arranged on the sides lengthwise across the corridor.[96] The coaches are not air-conditioned and have open-able windows. There are common charging sockets, ceiling mounted fans and lights in each compartment. Food is available on order or can be purchased from vendors.[128]\\r\\nSecond sitting\\tD/J\\t\\tSecond sitting is the most common chair car coach and the cheapest in the Indian Railways.[127] It is common in most day-time running trains with six seats arranged in 3x3 configuration. The seats may face each other or towards the same side.[96] The coaches are not air-conditioned and have open-able windows. There are common charging sockets, ceiling mounted fans and lights in each compartment. Food is available on order or can be purchased from vendors.[128]\\r\\nUnreserved or General\\tUR/GS\\t\\tUnreserved or general coaches are second seating coaches which are not available for reservation and seats are taken on available basis.[127] One or more of these coaches are attached to express trains while dedicated passenger trains might also have all unreserved coaches. Tickets are valid on any train on a route only for within 24 hours of purchase.[146]\", mimetype=None, path=None, url=None), image_resource=None, audio_resource=None, video_resource=None, text_template='{metadata_str}\\n\\n{content}')]"
      ]
     },
     "execution_count": 18,
     "metadata": {},
     "output_type": "execute_result"
    }
   ],
   "source": [
    "document.load_data()"
   ]
  },
  {
   "cell_type": "markdown",
   "metadata": {},
   "source": [
    "Bhai shahb sara 4234 words are loaded"
   ]
  },
  {
   "cell_type": "code",
   "execution_count": 19,
   "metadata": {},
   "outputs": [],
   "source": [
    "doc = document.load_data()"
   ]
  },
  {
   "cell_type": "code",
   "execution_count": 29,
   "metadata": {},
   "outputs": [
    {
     "name": "stdout",
     "output_type": "stream",
     "text": [
      "Indian Railways:- \n",
      "\n",
      "Indian Railways is a state-owned enterprise that is organised as a deparmental undertaking of the Ministry of Railways of the Government of India and operates India's national railway system.[a] As of 2023, it manages the fourth largest national railway system by size with a track length of 132,310 km (82,210 mi), running track length of 106,493 km (66,172 mi) and route length of 68,584 km (42,616 mi). As of August 2024, 96.59% of the broad-gauge network is electrified. With more than 1.2 million employees, it is the world's ninth-largest employer and India's second largest employer.\n",
      "\n",
      "In 1951, the Indian Railways was established by the amalgamation of 42 different railway companies operating in the country, spanning a total of 55,000 km (34,000 mi). The railway network across the country was reorganized into six regional zones in 1951–52 for administrative purposes, which was gradually expanded to 18 zones over the years.\n",
      "\n",
      "The first steam operated railway operated in 1837 in Madras with the first passenger operating in 1853 between Bombay and Thane. In 1925, the first electric train ran in Bombay on DC traction. The first locomotive manufacturing unit was commissioned in 1950 at Chittaranjan with the first coach manufacturing unit set-up at Madras in 1955.\n",
      "\n",
      "Indian Railways runs various classes of express, passengers and suburban trains. In 2018–19, it operated 13,523 trains on average daily covering 7,325 stations and carried 8.44 billion passengers. Indian Railways also operates different classes of rail freight transport. In 2022–23, it operated 8,479 trains on average daily and transported 1418.1 million tonnes of freight. Indian Railways operates multiple classes of rolling stock, manufactured by self-owned coach-production facilities. As of March 2023, Indian Railways' rolling stock consisted of 318,196 freight wagons and 84,863 passenger coaches. As of December 2023, Indian Railways had 10,238 electric and 4,543 diesel locomotives amongst others.\n",
      "\n",
      "\n",
      "History:-\n",
      "1832–1899\n",
      "In 1832 the proposal to construct the first railway line in India at Madras was made.[5][6] In 1835, a railway track was constructed between Red Hills and Chintadripet in Madras and became operational in 1837. It was hauled by a rotary steam engine imported from England and was used for ferrying granite\n",
      "The Madras Railway was established in 1845 and the Great Indian Peninsular Railway was incorporated in 1849.[6] Temporary railway lines were built such as the railway line at Dowleswaram built by Arthur Cotton to supply stone for the construction of a dam over the Godavari River in 1845 and the Solani aqueduct railway, built by Proby Cautley in Roorkee to transport construction materials for an aqueduct over the Solani river in 1851.[6] In 1852, a steam locomotive imported from England was tried at Byculla.[8] In 1853, the first passenger train on 1,676 mm (5 ft 6 in) broad gauge ran for 34 kilometres (21 mi) between Bombay and Thane which had 14-carriages carrying 400 people, hauled by three steam locomotives: the Sahib, Sindh and Sultan.[9][10] This day is considered to be the formation date of the Indian Railways and is marked as the Indian Railways day annually.[11][12]\n",
      "\n",
      "The Thane viaducts, the first railway bridges, were built over the Thane creek when the Mumbai-Thane line was extended to Kalyan in May 1854. Eastern India's first passenger train ran 39 km (24 mi) from Howrah, near Kolkata, to Hoogly on 15 August 1854.[6] The construction of the first main line in the South between Royapuram in Madras and Arcot started in 1853, which became operational on 1 July 1856.[13] On 24 February 1873, a horse-drawn 3.8 km (2.4 mi) tram opened in Calcutta between Sealdah and Armenian Ghat street.[14] On 9 May 1874, a horse-drawn tramway began operation in Bombay between Colaba and Parel.[15] In 1879, the Nizam's Guaranteed State Railway was established which built railway lines across the then Hyderabad State from Kachiguda.[16] In 1877, an Ajmer built F-1/734 Steam Locomotive became the first indigenously built locomotive in India.[17] In 1897, lighting in passenger coaches was introduced with Jodhpur Railway, the first to introduce electric lighting as a standard fixture\n",
      "\n",
      "1900–1999\n",
      "The first railway budget was presented in 1924.[6] On 3 February 1925, the first electric train ran between Bombay and Kurla, hauled by a SLM electric locomotive on DC traction.[18] In 1925, the first Electric Multiple Units (EMU) were introduced in Bombay with 1500 V DC units imported from Cammell Laird and Uerdingenwagonfabrik.[19] Chennai suburban railway started operating in 1931 with a single metre-gauge line from Chennai Beach to Tambaram.[20] In the period between 1925 and 1944, the management of the railway companies in the British presidencies and provinces was taken over by the Government.[21]\n",
      "\n",
      "In 1950, there were about 42 different railway companies operating about 55,000 km (34,000 mi) tracks across the country.[22][23] These railway companies were amalgamated in steps to form a single entity named as Indian Railways.[24] In December 1950, the Central Advisory Committee for Railways approved the plan for re-organizing Indian Railways into six regional zones with the Southern (14 April 1951), Central (5 November 1951), and Western (5 November 1951) zones being the first to be created.[23][25][21] In 1952, fans and lights were mandated for all compartments in passenger trains and sleeping accommodations were introduced in coaches.[6] The first diesel locomotive used in India was fabricated by North British Locomotive Company in 1954.\n",
      "\n",
      "The first locomotive manufacturing unit at Chittaranjan was commissioned in 1950.[27] The first rail coaches were manufactured in India from 1956 when the Integral Coach Factory was established at Madras.[28] In 1956, the first air-conditioned train plied between Howrah and New Delhi.[29] In 1957, Indian Railways adopted 25 kV AC traction with the first runs beginning in December 1959 with the WAM-1 locomotives.[19] The first containerized freight rail transport began between Bombay and Ahmedabad in 1966.[6] In 1969, the Government of India announced the introduction of a new express train capable of reaching speeds of up to 120 km/h (75 mph) in the railway budget and the first Rajdhani Express was flagged off from New Delhi to Howrah in March 1969.[30][31] In 1974, Indian Railways endured a 20-day strike.[32][33] The first metro rail was introduced in Calcutta on 24 October 1984.[34]\n",
      "\n",
      "In 1986, computerized ticketing and reservations were introduced.[35] In 1988, the first Shatabdi Express was introduced between New Delhi and Jhansi.[6] Two years later, the first self-printing ticket machine (SPTM) was introduced in Delhi.[36] In 1993, air-conditioned three-tier and sleeper were introduced.[6] In 1995, Chennai MRTS became the first operational elevated railway line in India.[20] Centralized computer reservation system was deployed in Delhi, Mumbai and Chennai in September 1996, coupon validating machines (CVMs) were introduced at Mumbai CSMT in 1998 and the nationwide concierge system began operation on 18 April 1999.[6]\n",
      "\n",
      "2000–present\n",
      "The Indian Railways website went online in February 2000. Indian Railways Catering and Tourism Corporation (IRCTC) was incorporated in 1999 and online ticketing was introduced on 3 August 2002 through IRCTC.[37] In 2015, the first Compressed Natural Gas (CNG) powered trains were rolled out.[38] Since 1925, the Railway budget was presented before the Union budget till 2016. The central government approved the merger of the Rail and General budgets from 2017.[39] On 31 March 2017, Indian Railways announced a target of electrifying the entire rail network would be electrified by 2023.[40] In March 2020, Indian Railways announced a nationwide shutdown of passenger service to combat the COVID-19 pandemic in India with the freight operations continuing to transport essential goods.[41][42][43] The railways resumed passenger services in a phased manner in May 2020\n",
      "\n",
      "Starting in the 2010s, various infrastructure modernization projects have been undertaken including high-speed rail,[45][46] redevelopment of 400 stations,[47] doubling tracks to reduce congestion,[48] refurbishing of coaches,[49][50] Global Positioning System (GPS)-enabled tracking of trains[51] and modernization of locomotives.[52][53] In 2018, a semi-high speed self-propelled train-set capable of reaching speeds of over 160 km/h (99 mph) was rolled out from ICF and the Vande Bharat Express was launched in 2019.[54][55] Indian Railways announced plans to become a net-zero carbon emission railway by 2030 and has implemented rainwater harvesting at stations,[56] reforestation along the tracks,[57] introduction of solar-powered trains,[58] installation of solar and wind power generation facilities,[59] and sustainable LED lighting at all the stations.[60] Indian railways removed all unstaffed level crossings by 2019 with staffed level crossings being replaced by bridges.[61] Other safety projects include the extension of an automated fire alarm system to all air-conditioned coaches and GPS-enabled Fog Pilot Assistance System railway signalling devices.[62] In 2020, Indian Railways allowed the operation of private passenger trains for the first time with the first train flagged off from Coimbatore in June 2022.[63][64]\n",
      "\n",
      "Infrastructure and operations : -\n",
      "\n",
      "Locomotives\n",
      "The first trains in the 1800s were hauled by imported steam locomotives.[6] In 1877, the first locomotive was built in India.[8] Electric locomotives were introduced in 1925 and diesel locomotives later in 1954.[26][18] By 1990s, steam locomotives were phased out and are currently operated only on mountrain railways and on heritage trains. Locomotives are classified by track gauge (broad/metre/narrow/narrower), motive power (electric/diesel/battery), function (passenger/goods/mixed), power rating (x1000 HP) and model in a four or five letter code.[76] The locomotives may be Longer Hood Front (LHF), where the driver cabin is behind the hood of the engine or Short Hood Front (SHF), where the cabin is located towards the front.[76] Multiple units (MU) are propelled by locomotives integrated with train-sets. In 2015, the first Compressed Natural Gas (CNG) powered MUs were rolled out by ICF.[38] In 2018, the semi-high speed self-propelled Vande Bharat train-set was rolled out from ICF.[54] Locomotives are manufactured by five owned manufacturing units of the Indian Railways and BHEL.[77] As of 2021, 37% of the trains are operated by diesel locomotives and rest mostly by electric locomotives.[78] As of December 2023, Indian Railways had 10,238 electric and 4,543 diesel locomotives amongst others\n",
      "\n",
      "Passenger coaches : -\n",
      "The early rail coaches were based on a prototype by a Swiss company and were termed as ICF coaches after Integral coach factory (ICF), the first coach manufacturing unit in India.[28] These coaches, manufactured from 1955 to 2018, were largely in use till the early 2010s.[81] From the late 1990s, the ICF coaches were replaced by safer and newer LHB coaches designed by Linke-Hofmann-Busch of Germany.[82][83] In the late 2010s, Indian railways started upgrading the coaches of select trains from LHB to new Tejas coaches with enhanced features.[84][85] As of March 2023, Indian Railways' had 84,863 passenger coaches.[3] Coaches are manufactured by five manufacturing units of the Indian Railways and public sector companies BEML and BHEL.[77] The coaching stock have unique five or six digit identifiers. Till 2018, the first two digits indicating the year of manufacture and the last three digits indicating the class.[86] In 2018, the numbering system was changed with the first two digits indicating the year of manufacture and the last four digits indicating the sequence number.[87]\n",
      "\n",
      "Multiple units\n",
      "In the 1960s, Electric multiple units (EMU) were developed for short-haul and suburban rail transit.[88][89] On regional short-distance routes, Mainline electrical multiple unit (MEMU) and Diesel electrical multiple unit (DEMU) trains are run. These train sets run in formation of 6, 9, 12 or 15 coaches and a three-car set is typified by a motor coaches and two passenger coaches.[90][91] These train-sets are self-propelled with capability for faster acceleration or deceleration.[92] In 2018, Indian Railways also rolled out semi-high speed self-propelled train sets with modified coaches for inter city trains.\n",
      "\n",
      "Goods wagons\n",
      "Indian Railways hauls variety of cargo to cater to various requirements and have specialized rolling stock corresponding to the cargo hauled. There are 243 types of rolling stock used for cargo operations.[93] These include covered wagons, boxcars, flat wagons, flatbeds, open wagons, hoppers, containers, automobile carriers, defense vehicle carriers and tankers.[94] The freight cars can often carry loads from 10 to 80 tonnes per car depending on the configuration.[94] A new wagon numbering system was adopted in Indian Railways in 2003.[95] The requirement of wagons was previously met by Bharat wagon and engineering with the procurement and manufacturing now done by both in public and private sector.[3]\n",
      "\n",
      "Others\n",
      "Apart from standard passenger classes, the Indian Railways has other specialized coach types used for dedicated functions.[96] These include accident relief medical vans,[97][98] brake vans,[99][100] generator cars,[101] inspection carriages,[102] military cars,[97] pantry car[103] and parcel vans.[104] These may be dedicated self-propelled units or attached to train-sets.[105][106]\n",
      "\n",
      "Manufacturing\n",
      "Indian Railways operates various manufacturing units. Chittaranjan Locomotive Works (CLW), commissioned in 1950, was the first locomotive manufacturing unit in India.[27] The first rail coache manufacturing unit, the Integral Coach Factory (ICF) was established at Madras in 1956.[28] Banaras Locomotive Works (BLW), commissioned in 1961, is the second locomotive manufacturing unit operated by Indian Railways.[107] BHEL, Patiala Locomotive Works, Diesel Locomotive Factory, Marhowrah and Electric Locomotive Factory, Madhepura also manufacture locomotives in India.[77] Railway coaches are also manufactured at coach factories at Karputhala, Raebareli, Sonipat and Latur.[77] Indian Railways also operates three rail wheel manufacturing factories at Bangalore, Chhpra and Raebareli.[77][108]\n",
      "\n",
      "Maintenance\n",
      "The locomotives are operated and maintained by 44 locomotive sheds.[80][79] The repair and maintenance of the fleet of other rolling stock is carried out at 212 carriage & wagon repair units and 45 periodic overhaul workshops across various zones of IR\n",
      "\n",
      "Signaling and communication:-\n",
      "Indian Railways uses a range of signalling technologies and methods to manage its train operations based on traffic density and safety requirements. As of March 2023, around 3,549 km (2,205 mi) of the route uses automatic block signalling for train operations – concentrated in high density routes, large cities and junctions.[3] Remaining routes are based on absolute block signalling with trains manually controlled by signal men from the signal boxes typically located at stations. Few low density routes still use manual block signalling methods with communication on track clearance based on physical exchange of tokens.[117] In a few sections, intermediate block signalling is provided to further enhance line capacity with minimal investment. As of March 2020, 602 block sections have intermediate block signals.[3] Indian Railways primarily uses coloured signal lights, which replaced the earlier semaphores and disc-based signalling. It uses two-aspect, three-aspect and four (or multiple) aspect color signalling across its network.[118][119]\n",
      "\n",
      "Signals at most stations are interlocked using panel interlocking, route-relay interlocking or electronic interlocking methods that eliminate scope for human signalling errors. Indian Railways uses track circuiting, and block proving axle counters for train detection. As of March 2023, 6,523 stations have interlocked and multi-aspect signalling. Around 99% of key routes have track circuitry or block proving axle counters for automated train detection and Kavach automatic train protection system has been implemented in 1,445 km (898 mi) of tracks.[3] The railways has about 59,105 km (36,726 mi) of optical fiber cable network used for train control, voice and data communication with 3,445 km (2,141 mi) of the route covered by GSM-R based Mobile Train Radio communication.[3] In December 2017, Indian Railways announced that it will implement ETCS Level 2 system for signalling and control on key routes with an investment of ₹120 billion (US$1.4 billion)\n",
      "\n",
      "Passenger trains:-\n",
      "Indian Railways operates various classes of passenger and express trains. The trains are classified basis average speed and facilities with express trains having fewer halts, priority on rail network and faster average speed. The trains are identified by five digit numbers with train-pairs traveling in opposite directions usually labelled with consecutive numbers.[148] Express trains often have specific unique names for easy identification.[149] In 2018–19, Indian Railways operated 13,523 passenger trains on average daily and carried 8.44 billion passengers.[150] India Railways operates various categories of express trains including Rajdhani Express, Shatabdi Express, Garib Rath Express, Double Decker Express, Tejas Express, Gatimaan Express, Humsafar Express, Duronto Express, Yuva Express, Uday Express, Jan Shatabdi Express, Sampark Kranti Express, Vivek Express, Rajya Rani Express, Mahamana Express, Antyodaya Express, Jan Sadharan Express, Suvidha Express and Intercity Express.\n",
      "\n",
      "High-speed rail\n",
      "Rajdhani Express introduced in 1969 were the first trains to reach speeds of up to 120 km/h (75 mph).[31] Shatabdi Express introduced in 1988, are capable of running at a maximum speed of 150 km/h (93 mph).[151][152] In 2019, Vande Bharat Express was launched with self-propelled EMU train-sets capable of reaching maximum speed of 180 km/h (110 mph) with operational speeds restricted to 130–160 km/h (81–99 mph).[153][154] A non-airconditioned semi-high speed train-set hauled by two modified WAP-5 locomotives was launched as Amrit Bharat Express.[155] A high-speed rail line is under-construction between Mumbai and Ahmedabad which will become the first true high-speed rail line when completed in 2026\n",
      "\n",
      "Mountain railways:-\n",
      "Mountain Railways of India refer to three rail lines operated by Indian Railways in hilly terrain. Darjeeling Himalayan Railway, a 610 mm (2 ft) narrow-gauge railway in the Lesser Himalayas of West Bengal was opened in 1881. [157] The mountain railways were designated as World Heritage Sites in 1999.[157] The Kalka-Shimla Railway, a 762 mm (2 ft 6 in) narrow-gauge railway in the Siwalik Hills of Himachal Pradesh started operating in 1903. The Nilgiri Mountain Railway, a 1,000 mm (3 ft 3+3⁄8 in) metre gauge rack railway in the Nilgiri Hills of Tamil Nadu was opened in 1908 and is the only operational rack railway in India.[158][157] These railways operate with its own dedicated fleet of locomotives and coaches.\n",
      "\n",
      "Suburban and metro:-\n",
      "The first suburban electric trains were introduced in Bombay in 1925.[90][160] Chennai suburban lines started operating in 1931 and Kolkata in 1957.[161][162] Later, AC traction was adopted for suburban lines and are currently operated by Multiple Units (MUs) of various configurations. In 1984, Kolkata Metro, the first metro system and the only system operated by Indian Railways was commissioned.[163] Opened in November 1995, Chennai MRTS became the first operational elevated railway line in India.[20] Indian Railways operates suburban railway systems across the cities of Mumbai (suburban), Chennai (suburban and MRTS), Kolkata (suburban and metro) and Secunderabad (MMTS) covering six railway zones.\n",
      "\n",
      "Tourism\n",
      "Indian Railways offers tour packages through IRCTC.[164] It operates tourist trains and coach services on popular tourist circuits in different regions of the country. It operates luxury tourist trains such as Maharajas' Express, Palace on Wheels, Golden Chariot and Deccan Odyssey, deluxe tourist trains such as Mahaparinirvan Express.[3][165] It also operates heritage and exhibition trains on special circumstances\n",
      "\n",
      "Ticketing and fares:-\n",
      "In 1986, computerized ticketing and reservations were introduced before which ticketing was done manually.[35] Self-printing ticket machines (SPTM) were introduced in 1988.[36] Centralized computer reservation system was deployed in September 1996.[6] The ticketing network at stations is computerized with the exception of few stations. The Indian Railways website went online in February 2000 and online ticketing was introduced on 3 August 2002 through IRCTC.[37] Indian Railways now provides multiple channels for passengers to book tickets through website, smartphone apps, SMS, rail reservation counters at train stations, or through private ticket booking counters. Reserved tickets may be booked up to 60 days in advance and confirmed reservation tickets will show the passenger and fare details along with berth or seat number(s) allocated to them on the ticket.\n",
      "\n",
      "In case of no confirmed reservation, a wait-list number is assigned and wait-listed tickets get confirmed if there are cancellations of already reserved tickets. Reservation against cancellation tickets is an intermediate category between the waiting and confirmed lists in sleeper classes which allows a ticket holder to board the train and share a berth.[167] Reserved tickets can be booked by passengers who want to travel at short notice at higher fares through the Tatkal train ticket, where no refund is applicable on cancellation.[168] A valid proof for the purchase of ticket along with photo identification is required to board the train.[169] Unreserved tickets for short distance or unplanned travels may be purchased at stations or through UTS mobile app at any time before departure.[170] Holders of such tickets may only board the general or unreserved coaches. Suburban networks also issue unreserved tickets valid for a limited time or season passes with unlimited travel between two stops for a period of time.[171][172]\n",
      "\n",
      "India has some of the lowest train fares in the world, and lower class passenger fares are subsidised.[173][174] Discounted fares are applicable for railway employees, senior citizens (over age 60), the differently-abled, students, athletes, patients and those taking competitive examinations. Seats of lower class of accommodation are reserved for women or senior citizens in some trains.\n",
      "\n",
      "Accidents and incidents:-\n",
      "As per the Ministry of Railways, there have been more than 38,500 railway accidents from 1961 to 2019.[179] In 2019-20, the Indian Railways reported zero passenger deaths due to accidents for the first time in its history.[180] At least 313 people died in 40 train accidents in 2023-24 and 748 people have died in 638 train accidents in the previous ten years.\n",
      "\n",
      "Accidents of Indian Railways[179]\n",
      "Span\tAccidents\tTrain kms (million)\tAccidents per million kms\n",
      "Collisions\tDerailments\tLevel crossing\tFire\tOthers\tTotal\n",
      "1961-1970\t834\t10,664\t1,394\t1,037\t0\t13,929\t4,339\t3.21\n",
      "1971-1980\t588\t6,763\t1,120\t185\t0\t8,665\t4,810\t1.80\n",
      "1981-1990\t475\t6,242\t677\t176\t0\t7,570\t5,598\t1.35\n",
      "1991-2000\t340\t3,583\t632\t77\t0\t4,642\t6,559\t0.70\n",
      "2001-2010\t135\t1,680\t803\t93\t52\t2,763\t8,333\t0.33\n",
      "2011-2019\t43\t567\t352\t54\t16\t1,023\t10,134\t0.10\n",
      "\n",
      "Travel classes : - (coach types)\n",
      "Coach code (First digit)[125]\n",
      "Class\tCode\tImage\tDescription\n",
      "First AC\tH\t\tIt is the most luxurious and expensive class in most express trains.[127][96] They have separate air-conditioned compartments with private lockable doors, bedding, dedicated attendants and meals served at seat.[128]\n",
      "First Class\tF\t\tFirst class is similar to first AC coaches with a combination of cabins and berths but are non air-conditioned and do not have all the facilities of first AC coaches.[128] They were slated to be phased out of normal express trains starting in the 2000s and the last coach being de-commissioned in 2015.[129][130] The First class is still in use in toy trains where the coaches consist of seats similar to chair cars.[131]\n",
      "Executive Anubhuti\tEA/K\t\tExecutive Anubhuti is the premium class of air-conditioned chair car equipped with retractable, large cushioned seats in 2x2 configuration. The class is equipped with an entertainment system, large luggage compartments, passenger information system, dedicated reading lights, power sockets and call buttons, modular bio toilets with automated taps. Meals often provided as a part of the journey ticket.[132] The class is available only in select trains.[132][133]\n",
      "AC Executive Class\tE\t\tAC Executive Class is often the top most class of air-conditioned chair car in express trains. It is equipped with large retractable seats in 2x2 configuration.[127][134] The class is equipped with dedicated reading lights and power sockets, modular bio toilets with automated taps. Meals are often provided as a part of the journey ticket.[128] In Vande Bharat Express trains, the class is equipped with more features including rotating seats, CCTVs, passenger information system, larger toilets, USB ports and automated doors.[135][136]\n",
      "Executive Vistadome\tEV\t\tAC Tourist cars have vistadome coaches with glass roofs and extra wide windows. The interiors are similar to AC chair car coaches. Select trains operating mostly on tourist circuits are equipped with such coaches.[137] Indian Railways plans to introduce these coaches in all mountain railways.[138]\n",
      "Second AC or AC 2-tier\tA\t\tSecond AC or AC 2-tier is an air-conditioned sleeping car with wide sealed windows.[127] There are four berths arranged in two-tiers facing each other in a single bay with two-tiered berths arranged on the sides lengthwise across the corridor.[96] Individual berths are equipped with curtains, simple bedding, reading lights and charging sockets.[139][140] Food is available on order or as a part of the ticket depending on the train.[128]\n",
      "Third AC or AC 3-tier\tB\t\tThird AC or AC 3-tier is an air-conditioned sleeping car.[127] There are six berths arranged in three-tiers facing each other in a single bay with foldable middle berths and two-tiered berths arranged on the sides lengthwise across the corridor.[96] There are common charging sockets and lights in each compartment with simple bedding provided.[140] Food is available on order or as a part of the ticket depending on the train with the same menu shared with AC 2-tier.[128]\n",
      "AC 3-tier economy\tG/M\t\tAC 3-tier economy coaches are air-conditioned sleeping cars similar to AC 3-tier.[127] Compared to 3-tier coaches, they have an extra middle berth along the aisle.[128] The coaches were first introduced in Garib Rath trains and only a few trains operate with such coaches.[141] Bedding is available for rent and the coaches have facilities like charging sockets and lights similar to AC 3-tier coaches.[141] New AC 3-tier economy coaches introduced in 2021 have similar berth arrangement as AC 3-tier but accommodates 83 berths per coach and other improved facilities.[142][143]\n",
      "AC Chair Car\tC\t\tAC chair car are air-conditioned coaches equipped with retractable seats in 3x2 configuration.[127] The class has cushioned seats with tray tables and are equipped with LED reading lights, power sockets along the window side. Meals are provided as a part of the journey ticket in select trains.[128] In Vande Bharat Express trains, the class is equipped with more features including passenger information system, CCTVs, larger toilets and automated doors.[144][145]\n",
      "Sleeper\tS\t\tSleeper class is the most common sleeping car coach in Indian Railways.[127] There are six berths arranged in three-tiers facing each other in a single bay with foldable middle berths and two-tiered berths arranged on the sides lengthwise across the corridor.[96] The coaches are not air-conditioned and have open-able windows. There are common charging sockets, ceiling mounted fans and lights in each compartment. Food is available on order or can be purchased from vendors.[128]\n",
      "Second sitting\tD/J\t\tSecond sitting is the most common chair car coach and the cheapest in the Indian Railways.[127] It is common in most day-time running trains with six seats arranged in 3x3 configuration. The seats may face each other or towards the same side.[96] The coaches are not air-conditioned and have open-able windows. There are common charging sockets, ceiling mounted fans and lights in each compartment. Food is available on order or can be purchased from vendors.[128]\n",
      "Unreserved or General\tUR/GS\t\tUnreserved or general coaches are second seating coaches which are not available for reservation and seats are taken on available basis.[127] One or more of these coaches are attached to express trains while dedicated passenger trains might also have all unreserved coaches. Tickets are valid on any train on a route only for within 24 hours of purchase.[146]\n"
     ]
    }
   ],
   "source": [
    "print(doc[0].text)"
   ]
  },
  {
   "cell_type": "markdown",
   "metadata": {},
   "source": [
    "So my document of railway gyan kosh is loaded in the program successfully. Data Ingestion is done"
   ]
  },
  {
   "cell_type": "code",
   "execution_count": 21,
   "metadata": {},
   "outputs": [
    {
     "name": "stdout",
     "output_type": "stream",
     "text": [
      "models/embedding-001\n",
      "models/text-embedding-004\n"
     ]
    }
   ],
   "source": [
    "# creating embedding now\n",
    "for model in genai.list_models():\n",
    "    if 'embedContent' in model.supported_generation_methods:\n",
    "        print(model.name)"
   ]
  },
  {
   "cell_type": "code",
   "execution_count": 23,
   "metadata": {},
   "outputs": [],
   "source": [
    "model = genai.GenerativeModel(\"gemini-1.5-pro-latest\")"
   ]
  },
  {
   "cell_type": "code",
   "execution_count": 26,
   "metadata": {},
   "outputs": [],
   "source": [
    "from llama_index.embeddings.gemini import GeminiEmbedding"
   ]
  },
  {
   "cell_type": "code",
   "execution_count": 27,
   "metadata": {},
   "outputs": [],
   "source": [
    "gemini_embed_model = GeminiEmbedding(model_name = \"models/embedding-001\")"
   ]
  },
  {
   "cell_type": "code",
   "execution_count": 32,
   "metadata": {},
   "outputs": [
    {
     "ename": "ValueError",
     "evalue": "ServiceContext is deprecated. Use llama_index.settings.Settings instead, or pass in modules to local functions/methods/interfaces.\nSee the docs for updated usage/migration: \nhttps://docs.llamaindex.ai/en/stable/module_guides/supporting_modules/service_context_migration/",
     "output_type": "error",
     "traceback": [
      "\u001b[1;31m---------------------------------------------------------------------------\u001b[0m",
      "\u001b[1;31mValueError\u001b[0m                                Traceback (most recent call last)",
      "Cell \u001b[1;32mIn[32], line 2\u001b[0m\n\u001b[0;32m      1\u001b[0m \u001b[38;5;66;03m# configue service context\u001b[39;00m\n\u001b[1;32m----> 2\u001b[0m service_context \u001b[38;5;241m=\u001b[39m \u001b[43mServiceContext\u001b[49m\u001b[38;5;241;43m.\u001b[39;49m\u001b[43mfrom_defaults\u001b[49m\u001b[43m(\u001b[49m\n\u001b[0;32m      3\u001b[0m \u001b[43m    \u001b[49m\u001b[43mllm\u001b[49m\u001b[43m \u001b[49m\u001b[38;5;241;43m=\u001b[39;49m\u001b[43m \u001b[49m\u001b[43mmodel\u001b[49m\u001b[43m,\u001b[49m\n\u001b[0;32m      4\u001b[0m \u001b[43m    \u001b[49m\u001b[43membed_model\u001b[49m\u001b[43m \u001b[49m\u001b[38;5;241;43m=\u001b[39;49m\u001b[43m \u001b[49m\u001b[43mgemini_embed_model\u001b[49m\u001b[43m,\u001b[49m\n\u001b[0;32m      5\u001b[0m \u001b[43m    \u001b[49m\u001b[43mchunk_size\u001b[49m\u001b[43m \u001b[49m\u001b[38;5;241;43m=\u001b[39;49m\u001b[43m \u001b[49m\u001b[38;5;241;43m800\u001b[39;49m\u001b[43m,\u001b[49m\n\u001b[0;32m      6\u001b[0m \u001b[43m    \u001b[49m\u001b[43mchunk_overlap\u001b[49m\u001b[43m \u001b[49m\u001b[38;5;241;43m=\u001b[39;49m\u001b[43m \u001b[49m\u001b[38;5;241;43m20\u001b[39;49m\n\u001b[0;32m      7\u001b[0m \u001b[43m)\u001b[49m\n",
      "File \u001b[1;32mc:\\Users\\prabh\\srijan\\QA_llamaindex_geminiAPI_embedding\\env\\Lib\\site-packages\\llama_index\\core\\service_context.py:31\u001b[0m, in \u001b[0;36mServiceContext.from_defaults\u001b[1;34m(cls, **kwargs)\u001b[0m\n\u001b[0;32m     20\u001b[0m \u001b[38;5;129m@classmethod\u001b[39m\n\u001b[0;32m     21\u001b[0m \u001b[38;5;28;01mdef\u001b[39;00m \u001b[38;5;21mfrom_defaults\u001b[39m(\n\u001b[0;32m     22\u001b[0m     \u001b[38;5;28mcls\u001b[39m,\n\u001b[0;32m     23\u001b[0m     \u001b[38;5;241m*\u001b[39m\u001b[38;5;241m*\u001b[39mkwargs: Any,\n\u001b[0;32m     24\u001b[0m ) \u001b[38;5;241m-\u001b[39m\u001b[38;5;241m>\u001b[39m \u001b[38;5;124m\"\u001b[39m\u001b[38;5;124mServiceContext\u001b[39m\u001b[38;5;124m\"\u001b[39m:\n\u001b[0;32m     25\u001b[0m \u001b[38;5;250m    \u001b[39m\u001b[38;5;124;03m\"\"\"Create a ServiceContext from defaults.\u001b[39;00m\n\u001b[0;32m     26\u001b[0m \n\u001b[0;32m     27\u001b[0m \u001b[38;5;124;03m    NOTE: Deprecated, use llama_index.settings.Settings instead or pass in\u001b[39;00m\n\u001b[0;32m     28\u001b[0m \u001b[38;5;124;03m    modules to local functions/methods/interfaces.\u001b[39;00m\n\u001b[0;32m     29\u001b[0m \n\u001b[0;32m     30\u001b[0m \u001b[38;5;124;03m    \"\"\"\u001b[39;00m\n\u001b[1;32m---> 31\u001b[0m     \u001b[38;5;28;01mraise\u001b[39;00m \u001b[38;5;167;01mValueError\u001b[39;00m(\n\u001b[0;32m     32\u001b[0m         \u001b[38;5;124m\"\u001b[39m\u001b[38;5;124mServiceContext is deprecated. Use llama_index.settings.Settings instead, \u001b[39m\u001b[38;5;124m\"\u001b[39m\n\u001b[0;32m     33\u001b[0m         \u001b[38;5;124m\"\u001b[39m\u001b[38;5;124mor pass in modules to local functions/methods/interfaces.\u001b[39m\u001b[38;5;130;01m\\n\u001b[39;00m\u001b[38;5;124m\"\u001b[39m\n\u001b[0;32m     34\u001b[0m         \u001b[38;5;124m\"\u001b[39m\u001b[38;5;124mSee the docs for updated usage/migration: \u001b[39m\u001b[38;5;130;01m\\n\u001b[39;00m\u001b[38;5;124m\"\u001b[39m\n\u001b[0;32m     35\u001b[0m         \u001b[38;5;124m\"\u001b[39m\u001b[38;5;124mhttps://docs.llamaindex.ai/en/stable/module_guides/supporting_modules/service_context_migration/\u001b[39m\u001b[38;5;124m\"\u001b[39m\n\u001b[0;32m     36\u001b[0m     )\n",
      "\u001b[1;31mValueError\u001b[0m: ServiceContext is deprecated. Use llama_index.settings.Settings instead, or pass in modules to local functions/methods/interfaces.\nSee the docs for updated usage/migration: \nhttps://docs.llamaindex.ai/en/stable/module_guides/supporting_modules/service_context_migration/"
     ]
    }
   ],
   "source": [
    "# configue service context\n",
    "service_context = ServiceContext.from_defaults(\n",
    "    llm = model,\n",
    "    embed_model = gemini_embed_model,\n",
    "    chunk_size = 800,\n",
    "    chunk_overlap = 20\n",
    ")"
   ]
  },
  {
   "cell_type": "markdown",
   "metadata": {},
   "source": [
    "This code snippet is configuring a **Service Context** for a document or language processing pipeline using `ServiceContext` from the `llama_index` library (or a similar library). It integrates components like an LLM (Large Language Model), an embedding model, and chunking parameters into a unified context for processing tasks.\n",
    "\n",
    "Here’s a detailed explanation of each part:\n",
    "\n",
    "---\n",
    "\n",
    "### **1. `ServiceContext.from_defaults()`**\n",
    "- **Purpose:** \n",
    "  The `ServiceContext` class acts as a container that holds configurations and reusable components required by various operations (e.g., building indices, querying data).\n",
    "  - `from_defaults` is a helper method that allows you to quickly create a `ServiceContext` using default or custom settings.\n",
    "\n",
    "---\n",
    "\n",
    "### **2. Components of the `ServiceContext`**\n",
    "\n",
    "#### **a. `llm = model`**\n",
    "- This assigns the language model (`model`) to the `llm` parameter of the `ServiceContext`. \n",
    "- The language model is likely used to generate or process text (e.g., generating responses, summarizing content, or answering questions).\n",
    "- Example: A model like OpenAI's GPT, Google's Gemini, or a similar LLM.\n",
    "\n",
    "---\n",
    "\n",
    "#### **b. `embed_model = gemini_embed_model`**\n",
    "- Assigns the embedding model (`gemini_embed_model`) to the `embed_model` parameter.\n",
    "- Embedding models convert text into numerical vectors for similarity computations, clustering, or retrieval tasks.\n",
    "- The `gemini_embed_model` likely supports embeddings tailored for semantic search or similarity scoring.\n",
    "\n",
    "---\n",
    "\n",
    "#### **c. `chunk_size = 800`**\n",
    "- Refers to the maximum size (in characters or tokens) of text chunks.\n",
    "- Long documents are often split into smaller pieces (chunks) to fit within model limits or to improve processing accuracy.\n",
    "- **Why it’s important:**\n",
    "  - Prevents exceeding token limits of the LLM or embedding model.\n",
    "  - Allows for efficient processing by splitting the text into manageable pieces.\n",
    "\n",
    "---\n",
    "\n",
    "#### **d. `chunk_overlap = 20`**\n",
    "- Specifies how much overlap (in characters or tokens) exists between consecutive chunks.\n",
    "- **Why it’s important:**\n",
    "  - Ensures continuity between chunks so that important context is not lost.\n",
    "  - Helps in tasks like summarization or question answering where context from adjacent chunks might be necessary.\n",
    "\n",
    "---\n",
    "\n",
    "### **What Does This Configuration Enable?**\n",
    "The `ServiceContext` acts as a unified configuration for:\n",
    "1. **Indexing Text Data:** Efficiently creating an index for large text corpora.\n",
    "2. **Retrieval Tasks:** Using embeddings to find relevant chunks of text.\n",
    "3. **Querying:** Leveraging both embeddings and LLM for semantic search, Q&A, or summarization tasks.\n",
    "4. **Chunking Strategy:** Ensuring that the text is processed in manageable pieces while retaining context.\n",
    "\n",
    "---\n",
    "\n",
    "### **Example Use Case**\n",
    "Imagine you’re working on a system to query a large document (e.g., research papers):\n",
    "1. Split the document into smaller chunks (`chunk_size` and `chunk_overlap` are applied).\n",
    "2. Use `gemini_embed_model` to create embeddings for these chunks.\n",
    "3. Store these embeddings in an index for fast retrieval.\n",
    "4. Use the `model` (LLM) to generate responses by combining retrieved chunks.\n",
    "\n",
    "---\n",
    "\n",
    "Let me know if you’d like further clarification or additional examples!"
   ]
  },
  {
   "cell_type": "code",
   "execution_count": 36,
   "metadata": {},
   "outputs": [],
   "source": [
    "from llama_index.core import Settings"
   ]
  },
  {
   "cell_type": "markdown",
   "metadata": {},
   "source": [
    "Thanks for sharing the detailed excerpt from the LlamaIndex documentation. This indeed sheds light on the newer `Settings` object and its usage in place of the older `ServiceContext`. Here's a breakdown and explanation of how it works:\n",
    "\n",
    "---\n",
    "\n",
    "### **Understanding `Settings`**\n",
    "\n",
    "`Settings` is a **singleton object** introduced to standardize and simplify the configuration of various components in LlamaIndex workflows. Instead of setting configurations individually for LLMs, embeddings, tokenizers, etc., it allows a **global configuration** for these components that can be overridden locally when needed.\n",
    "\n",
    "---\n",
    "\n",
    "### **Key Features of `Settings`**\n",
    "\n",
    "1. **Centralized Configuration**  \n",
    "   Define global defaults for:\n",
    "   - **LLM** (e.g., OpenAI GPT models).\n",
    "   - **Embedding Models** (e.g., OpenAIEmbedding).\n",
    "   - **Text Splitters** for chunking documents.\n",
    "   - **Tokenizers** for token counting.\n",
    "   - **Callbacks** for monitoring events (e.g., token usage).\n",
    "\n",
    "2. **Local Overrides**  \n",
    "   You can override global settings for specific use cases (like querying or indexing) by passing components directly to the relevant interfaces.\n",
    "\n",
    "3. **Singleton Pattern**  \n",
    "   `Settings` persists throughout the application and ensures consistent behavior unless explicitly overridden.\n",
    "\n",
    "---\n",
    "\n",
    "### **How to Use `Settings`**\n",
    "\n",
    "1. **Configuring an LLM:**\n",
    "   ```python\n",
    "   from llama_index.llms.openai import OpenAI\n",
    "   from llama_index.core import Settings\n",
    "\n",
    "   Settings.llm = OpenAI(model=\"gpt-3.5-turbo\", temperature=0.1)\n",
    "   ```\n",
    "\n",
    "2. **Configuring an Embedding Model:**\n",
    "   ```python\n",
    "   from llama_index.embeddings.openai import OpenAIEmbedding\n",
    "   from llama_index.core import Settings\n",
    "\n",
    "   Settings.embed_model = OpenAIEmbedding(\n",
    "       model=\"text-embedding-ada-002\", embed_batch_size=100\n",
    "   )\n",
    "   ```\n",
    "\n",
    "3. **Customizing Text Splitters:**\n",
    "   ```python\n",
    "   from llama_index.core.node_parser import SentenceSplitter\n",
    "   from llama_index.core import Settings\n",
    "\n",
    "   Settings.text_splitter = SentenceSplitter(chunk_size=1024)\n",
    "   ```\n",
    "\n",
    "4. **Setting a Callback Manager:**\n",
    "   ```python\n",
    "   from llama_index.core.callbacks import TokenCountingHandler, CallbackManager\n",
    "   from llama_index.core import Settings\n",
    "\n",
    "   token_counter = TokenCountingHandler()\n",
    "   Settings.callback_manager = CallbackManager([token_counter])\n",
    "   ```\n",
    "\n",
    "---\n",
    "\n",
    "### **How It Helps Compared to `ServiceContext`**\n",
    "\n",
    "1. **Simplifies Migration:**  \n",
    "   Instead of creating a `ServiceContext` object, you directly use `Settings` for global defaults and avoid unnecessary code repetition.\n",
    "\n",
    "2. **Flexibility with Overrides:**  \n",
    "   Local overrides are cleaner and allow modular configurations for indexing and querying.\n",
    "\n",
    "3. **Future Compatibility:**  \n",
    "   As `ServiceContext` is deprecated, `Settings` ensures compatibility with the latest LlamaIndex updates.\n",
    "\n",
    "---\n",
    "\n",
    "### **Applying It to Your Code**\n",
    "\n",
    "If you're encountering the deprecation of `ServiceContext`, the equivalent `Settings` configuration for your case would look like this:\n",
    "\n",
    "```python\n",
    "from llama_index.core import Settings\n",
    "from llama_index.llms.openai import OpenAI\n",
    "from llama_index.embeddings.openai import OpenAIEmbedding\n",
    "\n",
    "# Configure global settings\n",
    "Settings.llm = OpenAI(model=\"gpt-3.5-turbo\", temperature=0.7)\n",
    "Settings.embed_model = OpenAIEmbedding(model=\"text-embedding-ada-002\")\n",
    "Settings.chunk_size = 800\n",
    "Settings.chunk_overlap = 20\n",
    "\n",
    "# Local override during indexing\n",
    "index = VectorStoreIndex.from_documents(documents)\n",
    "\n",
    "# Local override during querying\n",
    "query_engine = index.as_query_engine(llm=Settings.llm)\n",
    "```\n",
    "\n",
    "---\n",
    "\n",
    "### **Next Steps**\n",
    "\n",
    "- Ensure you have the latest `llama_index` version using `pip install --upgrade llama-index`.\n",
    "- Replace `ServiceContext` usage with `Settings` where needed.\n",
    "- Refer to the official [LlamaIndex documentation](https://docs.llamaindex.ai/) for detailed examples and updates.\n",
    "\n",
    "Let me know if you'd like help refactoring your specific code!"
   ]
  },
  {
   "cell_type": "code",
   "execution_count": 44,
   "metadata": {},
   "outputs": [
    {
     "name": "stdout",
     "output_type": "stream",
     "text": [
      "LlamaIndex (formerly GPT Index) is a data framework that allows you to connect your own data to large language models (LLMs) like GPT-3, GPT-4, and others.  It solves the context window limitation problem of LLMs by structuring your data and allowing the LLM to access relevant parts as needed.  Think of it as a bridge between your private data and the vast knowledge within an LLM.\n",
      "\n",
      "Here's a breakdown of its key features and benefits:\n",
      "\n",
      "* **Data Connection:** LlamaIndex can connect to various data sources, including:\n",
      "    * **Documents:** PDFs, Word files, text files, web pages, etc.\n",
      "    * **Code:** Python files, Javascript files, etc.\n",
      "    * **APIs:** Access data from various APIs.\n",
      "    * **Databases:** Structured data from SQL databases.\n",
      "\n",
      "* **Data Indexing:**  LlamaIndex structures your data into different index types optimized for various query types.  These indexes allow for efficient retrieval of relevant information. Common index types include:\n",
      "    * **List Index:** Simple list of text chunks. Good for summarizing and querying over smaller documents.\n",
      "    * **Tree Index:** Hierarchical structure of text chunks. Enables efficient querying and summarization of larger documents.\n",
      "    * **Vector Store Index:** Uses embeddings to store and retrieve text chunks based on semantic similarity.  Powerful for question answering and keyword search.\n",
      "    * **Keyword Table Index:** Uses keywords to retrieve relevant text chunks. Efficient for keyword-based queries.\n",
      "    * **Composition Index:** Combines different index types for complex use cases.\n",
      "\n",
      "* **Querying:**  LlamaIndex provides a simple query interface to interact with your indexed data through the LLM.  It automatically retrieves the relevant context from the index and feeds it to the LLM for processing.  This allows you to ask questions, generate summaries, and perform other tasks based on your data.\n",
      "\n",
      "* **Customization:**  LlamaIndex offers various customization options, including:\n",
      "    * **Data Connectors:** Build custom connectors for specialized data sources.\n",
      "    * **Index Structures:** Create custom index structures to optimize for specific query types.\n",
      "    * **LLM Integration:** Integrate with different LLMs and customize their prompts.\n",
      "    * **Response Modes:** Control how the LLM responds, such as generating text completions or choosing from a set of options.\n",
      "\n",
      "\n",
      "**Key benefits of using LlamaIndex:**\n",
      "\n",
      "* **Overcomes context limitations:** Enables using LLMs with large datasets that exceed the context window limit.\n",
      "* **Improved accuracy:** Provides relevant context to the LLM, leading to more accurate and insightful responses.\n",
      "* **Easy integration:** Simplifies the process of connecting LLMs to various data sources.\n",
      "* **Enhanced privacy:** Keeps your private data within your control.\n",
      "* **Flexibility and customization:** Allows for tailoring the framework to specific use cases and requirements.\n",
      "\n",
      "\n",
      "In essence, LlamaIndex acts as an intermediary between your data and the LLM, making it possible to leverage the power of LLMs with your private information effectively and efficiently.\n",
      "\n"
     ]
    }
   ],
   "source": [
    "response = model.generate_content(\"What is LlamaIndex?\")\n",
    "print(response.text)"
   ]
  },
  {
   "cell_type": "code",
   "execution_count": 45,
   "metadata": {},
   "outputs": [
    {
     "name": "stdout",
     "output_type": "stream",
     "text": [
      "['__doc__', '__file__', '__loader__', '__name__', '__package__', '__path__', '__spec__', 'gemini']\n"
     ]
    }
   ],
   "source": [
    "import llama_index.llms as llms\n",
    "\n",
    "# List all attributes of the llms module\n",
    "print(dir(llms))"
   ]
  },
  {
   "cell_type": "code",
   "execution_count": 46,
   "metadata": {},
   "outputs": [
    {
     "name": "stdout",
     "output_type": "stream",
     "text": [
      "['Gemini', '__all__', '__builtins__', '__cached__', '__doc__', '__file__', '__loader__', '__name__', '__package__', '__path__', '__spec__', 'base', 'utils']\n"
     ]
    }
   ],
   "source": [
    "import llama_index.llms.gemini as gemini\n",
    "\n",
    "print(dir(gemini))"
   ]
  },
  {
   "cell_type": "code",
   "execution_count": 47,
   "metadata": {},
   "outputs": [],
   "source": [
    "from llama_index.llms.gemini import Gemini\n",
    "from llama_index.core import Settings"
   ]
  },
  {
   "cell_type": "code",
   "execution_count": 50,
   "metadata": {},
   "outputs": [],
   "source": [
    "gemini = Gemini()"
   ]
  },
  {
   "cell_type": "code",
   "execution_count": 51,
   "metadata": {},
   "outputs": [
    {
     "name": "stdout",
     "output_type": "stream",
     "text": [
      "['__abstractmethods__', '__annotations__', '__class__', '__class_getitem__', '__class_vars__', '__copy__', '__deepcopy__', '__delattr__', '__dict__', '__dir__', '__doc__', '__eq__', '__fields_set__', '__format__', '__ge__', '__get_pydantic_core_schema__', '__get_pydantic_json_schema__', '__getattr__', '__getattribute__', '__getstate__', '__gt__', '__hash__', '__init__', '__init_subclass__', '__iter__', '__le__', '__lt__', '__module__', '__ne__', '__new__', '__pretty__', '__private_attributes__', '__pydantic_complete__', '__pydantic_computed_fields__', '__pydantic_core_schema__', '__pydantic_custom_init__', '__pydantic_decorators__', '__pydantic_extra__', '__pydantic_fields__', '__pydantic_fields_set__', '__pydantic_generic_metadata__', '__pydantic_init_subclass__', '__pydantic_parent_namespace__', '__pydantic_post_init__', '__pydantic_private__', '__pydantic_root_model__', '__pydantic_serializer__', '__pydantic_validator__', '__reduce__', '__reduce_ex__', '__replace__', '__repr__', '__repr_args__', '__repr_name__', '__repr_recursion__', '__repr_str__', '__rich_repr__', '__setattr__', '__setstate__', '__signature__', '__sizeof__', '__slots__', '__str__', '__subclasshook__', '__weakref__', '_abc_impl', '_as_query_component', '_calculate_keys', '_check_frozen', '_copy_and_set_values', '_extend_messages', '_extend_prompt', '_get_messages', '_get_prompt', '_get_value', '_iter', '_log_template_data', '_parse_output', 'achat', 'acomplete', 'apredict', 'apredict_and_call', 'as_query_component', 'as_structured_llm', 'astream', 'astream_chat', 'astream_complete', 'astream_structured_predict', 'astructured_predict', 'chat', 'check_callback_manager', 'check_prompts', 'class_name', 'complete', 'construct', 'convert_chat_messages', 'copy', 'custom_model_dump', 'dict', 'from_dict', 'from_json', 'from_orm', 'json', 'metadata', 'model_computed_fields', 'model_config', 'model_construct', 'model_copy', 'model_dump', 'model_dump_json', 'model_extra', 'model_fields', 'model_fields_set', 'model_json_schema', 'model_parametrized_name', 'model_post_init', 'model_rebuild', 'model_validate', 'model_validate_json', 'model_validate_strings', 'parse_file', 'parse_obj', 'parse_raw', 'predict', 'predict_and_call', 'schema', 'schema_json', 'set_completion_to_prompt', 'set_messages_to_prompt', 'stream', 'stream_chat', 'stream_complete', 'stream_structured_predict', 'structured_predict', 'to_dict', 'to_json', 'update_forward_refs', 'validate']\n"
     ]
    }
   ],
   "source": [
    "print(dir(Gemini))"
   ]
  },
  {
   "cell_type": "code",
   "execution_count": 53,
   "metadata": {},
   "outputs": [
    {
     "name": "stdout",
     "output_type": "stream",
     "text": [
      "context_window=1056768 num_output=8192 is_chat_model=True is_function_calling_model=False model_name='models/gemini-2.0-flash-exp' system_role=<MessageRole.SYSTEM: 'system'>\n"
     ]
    }
   ],
   "source": [
    "print(gemini.metadata)"
   ]
  },
  {
   "cell_type": "markdown",
   "metadata": {},
   "source": [
    "chalo atleast model ka name to pta chala : gemini-2.0-flash-exp"
   ]
  },
  {
   "cell_type": "code",
   "execution_count": 55,
   "metadata": {},
   "outputs": [],
   "source": [
    "# Configure global settings\n",
    "Settings.llm = Gemini(model = \"models/gemini-2.0-flash-exp\", temperature = 1.0)"
   ]
  },
  {
   "cell_type": "code",
   "execution_count": 56,
   "metadata": {},
   "outputs": [],
   "source": [
    "from llama_index.embeddings.gemini import GeminiEmbedding"
   ]
  },
  {
   "cell_type": "code",
   "execution_count": 60,
   "metadata": {},
   "outputs": [],
   "source": [
    "Settings.embed_model = GeminiEmbedding(model_name = \"models/embedding-001\")"
   ]
  },
  {
   "cell_type": "code",
   "execution_count": 61,
   "metadata": {},
   "outputs": [],
   "source": [
    "Settings.chunk_size = 800\n",
    "Settings.chunk_overlap = 20"
   ]
  },
  {
   "cell_type": "code",
   "execution_count": 62,
   "metadata": {},
   "outputs": [],
   "source": [
    "index = VectorStoreIndex.from_documents(doc)"
   ]
  },
  {
   "cell_type": "markdown",
   "metadata": {},
   "source": [
    "Bingo successfully index i have created"
   ]
  },
  {
   "cell_type": "code",
   "execution_count": 63,
   "metadata": {},
   "outputs": [
    {
     "name": "stdout",
     "output_type": "stream",
     "text": [
      "<llama_index.core.indices.vector_store.base.VectorStoreIndex object at 0x000001E484FDD950>\n"
     ]
    }
   ],
   "source": [
    "print(index)"
   ]
  },
  {
   "cell_type": "code",
   "execution_count": 64,
   "metadata": {},
   "outputs": [],
   "source": [
    "index.storage_context.persist()"
   ]
  },
  {
   "cell_type": "markdown",
   "metadata": {},
   "source": [
    "Here’s an explanation of the main components in `LlamaIndex` that you've mentioned: **`as_chat_engine`**, **`query_engine`**, and **`retriever`**, along with how they relate to each other.\n",
    "\n",
    "---\n",
    "\n",
    "### **1. `index.as_chat_engine()`**\n",
    "\n",
    "The `as_chat_engine()` method converts an index into a chat-like query engine. It enables conversational interaction with the indexed content. You can use it to maintain context across multiple queries, simulating a chat experience.\n",
    "\n",
    "#### **Usage Example**\n",
    "```python\n",
    "# Convert index to a chat engine\n",
    "chat_engine = index.as_chat_engine()\n",
    "\n",
    "# Start a chat session\n",
    "response_1 = chat_engine.chat(\"Tell me about the quick brown fox.\")\n",
    "print(response_1)\n",
    "\n",
    "response_2 = chat_engine.chat(\"What about the lazy dog?\")\n",
    "print(response_2)\n",
    "```\n",
    "\n",
    "#### **Key Features**\n",
    "- Maintains context between questions.\n",
    "- Useful for building conversational AI applications.\n",
    "\n",
    "---\n",
    "\n",
    "### **2. `index.as_query_engine()`**\n",
    "\n",
    "The `as_query_engine()` method creates a query engine for retrieving and answering questions based on the indexed data. Unlike the chat engine, it doesn't maintain context between queries.\n",
    "\n",
    "#### **Usage Example**\n",
    "```python\n",
    "# Convert index to a query engine\n",
    "query_engine = index.as_query_engine()\n",
    "\n",
    "# Perform queries\n",
    "response = query_engine.query(\"What jumps over the lazy dog?\")\n",
    "print(response)\n",
    "```\n",
    "\n",
    "#### **Key Features**\n",
    "- Designed for standalone queries.\n",
    "- Best for single questions without conversational context.\n",
    "\n",
    "---\n",
    "\n",
    "### **3. `index.as_retriever()`**\n",
    "\n",
    "The `as_retriever()` method enables retrieval of relevant documents or nodes based on a query. It doesn't generate natural language responses; instead, it focuses on fetching the most relevant data.\n",
    "\n",
    "#### **Usage Example**\n",
    "```python\n",
    "# Convert index to a retriever\n",
    "retriever = index.as_retriever()\n",
    "\n",
    "# Retrieve documents\n",
    "documents = retriever.retrieve(\"Tell me about the fox.\")\n",
    "for doc in documents:\n",
    "    print(doc)\n",
    "```\n",
    "\n",
    "#### **Key Features**\n",
    "- Retrieves raw documents or nodes.\n",
    "- Can be paired with a custom LLM for generating responses.\n",
    "- Useful when you want to control how the response is generated.\n",
    "\n",
    "---\n",
    "\n",
    "### **Comparison Table**\n",
    "\n",
    "| Feature             | `as_chat_engine()`                  | `as_query_engine()`               | `as_retriever()`                     |\n",
    "|---------------------|------------------------------------|-----------------------------------|-------------------------------------|\n",
    "| **Context**          | Maintains context between queries  | No context                        | No context                          |\n",
    "| **Response Type**    | Natural language responses         | Natural language responses        | Raw documents or nodes             |\n",
    "| **Use Case**         | Conversational AI                 | Standalone questions              | Custom response generation pipeline |\n",
    "| **Customization**    | Limited                          | Moderate                         | High                               |\n",
    "\n",
    "---\n",
    "\n",
    "### **How to Decide Which One to Use**\n",
    "\n",
    "1. **For Conversational AI**  \n",
    "   Use `as_chat_engine()` when building applications that require context maintenance across multiple queries.\n",
    "\n",
    "2. **For Simple Q&A**  \n",
    "   Use `as_query_engine()` for straightforward question-answering tasks without maintaining context.\n",
    "\n",
    "3. **For Retrieval-Only Scenarios**  \n",
    "   Use `as_retriever()` when you want to focus on retrieving raw documents for further processing, or if you need to integrate a custom LLM.\n",
    "\n",
    "---\n",
    "\n",
    "Let me know if you'd like a demonstration or further clarification!"
   ]
  },
  {
   "cell_type": "markdown",
   "metadata": {},
   "source": [
    "for chat bot, i will use langchain"
   ]
  },
  {
   "cell_type": "code",
   "execution_count": 65,
   "metadata": {},
   "outputs": [],
   "source": [
    "query_engine = index.as_query_engine()"
   ]
  },
  {
   "cell_type": "code",
   "execution_count": 70,
   "metadata": {},
   "outputs": [],
   "source": [
    "response = query_engine.query(\"What is Indian Railway\") # since document was indian railway gyankosh"
   ]
  },
  {
   "cell_type": "code",
   "execution_count": 71,
   "metadata": {},
   "outputs": [
    {
     "name": "stdout",
     "output_type": "stream",
     "text": [
      "Indian Railways is a single entity formed by the amalgamation of 42 different railway companies. It operates various classes of passenger and express trains, and also operates three mountain railways in hilly terrain.\n",
      "\n"
     ]
    }
   ],
   "source": [
    "print(response.response)"
   ]
  },
  {
   "cell_type": "code",
   "execution_count": 72,
   "metadata": {},
   "outputs": [
    {
     "data": {
      "text/plain": [
       "'Indian Railways uses various specialized coach types for dedicated functions, including accident relief medical vans, brake vans, generator cars, inspection carriages, military cars, pantry cars, and parcel vans. Additionally, there are second sitting coaches, which are the most common and cheapest chair car coaches, and unreserved or general coaches.\\n'"
      ]
     },
     "execution_count": 72,
     "metadata": {},
     "output_type": "execute_result"
    }
   ],
   "source": [
    "query_engine.query(\"How many different tyoes of coaches are operational in Indian Railway\").response"
   ]
  },
  {
   "cell_type": "code",
   "execution_count": 73,
   "metadata": {},
   "outputs": [
    {
     "data": {
      "text/plain": [
       "'Indian Railways operates various types of passenger and express trains, including Rajdhani Express, Shatabdi Express, Garib Rath Express, Double Decker Express, Tejas Express, Gatimaan Express, Humsafar Express, Duronto Express, Yuva Express, Uday Express, Jan Shatabdi Express, Sampark Kranti Express, Vivek Express, Rajya Rani Express, Mahamana Express, Antyodaya Express, Jan Sadharan Express, Suvidha Express and Intercity Express. Additionally, there are also semi-high speed train sets and high-speed rail options such as the Vande Bharat Express.\\n'"
      ]
     },
     "execution_count": 73,
     "metadata": {},
     "output_type": "execute_result"
    }
   ],
   "source": [
    "query_engine.query(\"Tell me about different types of trains being operated in Indian Railway\").response"
   ]
  },
  {
   "cell_type": "code",
   "execution_count": 74,
   "metadata": {},
   "outputs": [
    {
     "data": {
      "text/plain": [
       "'Rajdhani Express trains were introduced in 1969 and were the first to reach speeds of up to 120 km/h. They are one of the various categories of express trains operated by Indian Railways.\\n'"
      ]
     },
     "execution_count": 74,
     "metadata": {},
     "output_type": "execute_result"
    }
   ],
   "source": [
    "query_engine.query(\"Tell me about Rajdhani Express\").response"
   ]
  },
  {
   "cell_type": "code",
   "execution_count": 75,
   "metadata": {},
   "outputs": [
    {
     "data": {
      "text/plain": [
       "'The Vande Bharat Express can reach a maximum speed of 180 km/h.\\n'"
      ]
     },
     "execution_count": 75,
     "metadata": {},
     "output_type": "execute_result"
    }
   ],
   "source": [
    "query_engine.query(\"What is the maximum speed of any train in IR, also which train achieves it.\").response"
   ]
  },
  {
   "cell_type": "code",
   "execution_count": 76,
   "metadata": {},
   "outputs": [
    {
     "data": {
      "text/plain": [
       "'I am sorry, but this document does not contain information about how the earth revolves around the sun. It is about Indian Railways.\\n'"
      ]
     },
     "execution_count": 76,
     "metadata": {},
     "output_type": "execute_result"
    }
   ],
   "source": [
    "query_engine.query(\"How does earth revolve around the sun\").response"
   ]
  },
  {
   "cell_type": "markdown",
   "metadata": {},
   "source": [
    "### Bingo Maja aa gya. Kya mst chatboot banaya hun"
   ]
  },
  {
   "cell_type": "markdown",
   "metadata": {},
   "source": []
  }
 ],
 "metadata": {
  "kernelspec": {
   "display_name": "env",
   "language": "python",
   "name": "python3"
  },
  "language_info": {
   "codemirror_mode": {
    "name": "ipython",
    "version": 3
   },
   "file_extension": ".py",
   "mimetype": "text/x-python",
   "name": "python",
   "nbconvert_exporter": "python",
   "pygments_lexer": "ipython3",
   "version": "3.11.5"
  }
 },
 "nbformat": 4,
 "nbformat_minor": 2
}
